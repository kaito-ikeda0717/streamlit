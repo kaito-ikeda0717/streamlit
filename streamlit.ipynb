{
 "cells": [
  {
   "cell_type": "code",
   "execution_count": 3,
   "id": "cb243df8-c010-4e31-9fb8-239d4e8ab861",
   "metadata": {},
   "outputs": [],
   "source": [
    "import streamlit as st\n",
    "import numpy as np\n",
    "import pandas as pd\n",
    "import matplotlib.pyplot as plt\n",
    "%matplotlib inline\n",
    "import seaborn as sns"
   ]
  },
  {
   "cell_type": "markdown",
   "id": "78694987",
   "metadata": {},
   "source": [
    "### データの取得・整理"
   ]
  },
  {
   "cell_type": "code",
   "execution_count": 81,
   "id": "df0d5ff7-4fe2-44a8-b30b-676d0056c052",
   "metadata": {},
   "outputs": [
    {
     "data": {
      "text/html": [
       "<div>\n",
       "<style scoped>\n",
       "    .dataframe tbody tr th:only-of-type {\n",
       "        vertical-align: middle;\n",
       "    }\n",
       "\n",
       "    .dataframe tbody tr th {\n",
       "        vertical-align: top;\n",
       "    }\n",
       "\n",
       "    .dataframe thead th {\n",
       "        text-align: right;\n",
       "    }\n",
       "</style>\n",
       "<table border=\"1\" class=\"dataframe\">\n",
       "  <thead>\n",
       "    <tr style=\"text-align: right;\">\n",
       "      <th></th>\n",
       "      <th>date</th>\n",
       "      <th>category</th>\n",
       "      <th>memo</th>\n",
       "      <th>amount</th>\n",
       "    </tr>\n",
       "  </thead>\n",
       "  <tbody>\n",
       "    <tr>\n",
       "      <th>0</th>\n",
       "      <td>2022/07/24</td>\n",
       "      <td>その他</td>\n",
       "      <td>スティックノリ(TOEIC写真貼る用)</td>\n",
       "      <td>¥120</td>\n",
       "    </tr>\n",
       "    <tr>\n",
       "      <th>1</th>\n",
       "      <td>2022/07/24</td>\n",
       "      <td>その他</td>\n",
       "      <td>水</td>\n",
       "      <td>¥100</td>\n",
       "    </tr>\n",
       "    <tr>\n",
       "      <th>2</th>\n",
       "      <td>2022/07/24</td>\n",
       "      <td>その他</td>\n",
       "      <td>TOEIC用写真(写真証明機)</td>\n",
       "      <td>¥900</td>\n",
       "    </tr>\n",
       "    <tr>\n",
       "      <th>3</th>\n",
       "      <td>2022/07/24</td>\n",
       "      <td>旅費交通費</td>\n",
       "      <td>電車（海老名→淵野辺）</td>\n",
       "      <td>¥377</td>\n",
       "    </tr>\n",
       "    <tr>\n",
       "      <th>4</th>\n",
       "      <td>2022/07/25</td>\n",
       "      <td>自己投資</td>\n",
       "      <td>コメダ珈琲</td>\n",
       "      <td>¥270</td>\n",
       "    </tr>\n",
       "  </tbody>\n",
       "</table>\n",
       "</div>"
      ],
      "text/plain": [
       "         date category                 memo amount\n",
       "0  2022/07/24      その他  スティックノリ(TOEIC写真貼る用)   ¥120\n",
       "1  2022/07/24      その他                    水   ¥100\n",
       "2  2022/07/24      その他      TOEIC用写真(写真証明機)   ¥900\n",
       "3  2022/07/24    旅費交通費          電車（海老名→淵野辺）   ¥377\n",
       "4  2022/07/25     自己投資                コメダ珈琲   ¥270"
      ]
     },
     "execution_count": 81,
     "metadata": {},
     "output_type": "execute_result"
    }
   ],
   "source": [
    "df = pd.read_csv(\"支出管理表.csv\")\n",
    "df.head()"
   ]
  },
  {
   "cell_type": "code",
   "execution_count": 82,
   "id": "d101f416-fdb4-43a5-b653-569cb94ba3c2",
   "metadata": {},
   "outputs": [
    {
     "name": "stdout",
     "output_type": "stream",
     "text": [
      "<class 'pandas.core.frame.DataFrame'>\n",
      "RangeIndex: 1230 entries, 0 to 1229\n",
      "Data columns (total 4 columns):\n",
      " #   Column    Non-Null Count  Dtype \n",
      "---  ------    --------------  ----- \n",
      " 0   date      1227 non-null   object\n",
      " 1   category  1230 non-null   object\n",
      " 2   memo      1228 non-null   object\n",
      " 3   amount    1230 non-null   object\n",
      "dtypes: object(4)\n",
      "memory usage: 38.6+ KB\n"
     ]
    }
   ],
   "source": [
    "# データ型の確認\n",
    "df.info()"
   ]
  },
  {
   "cell_type": "code",
   "execution_count": 83,
   "id": "ead78b7a",
   "metadata": {},
   "outputs": [
    {
     "data": {
      "text/html": [
       "<div>\n",
       "<style scoped>\n",
       "    .dataframe tbody tr th:only-of-type {\n",
       "        vertical-align: middle;\n",
       "    }\n",
       "\n",
       "    .dataframe tbody tr th {\n",
       "        vertical-align: top;\n",
       "    }\n",
       "\n",
       "    .dataframe thead th {\n",
       "        text-align: right;\n",
       "    }\n",
       "</style>\n",
       "<table border=\"1\" class=\"dataframe\">\n",
       "  <thead>\n",
       "    <tr style=\"text-align: right;\">\n",
       "      <th></th>\n",
       "      <th>date</th>\n",
       "      <th>category</th>\n",
       "      <th>memo</th>\n",
       "      <th>amount</th>\n",
       "    </tr>\n",
       "  </thead>\n",
       "  <tbody>\n",
       "    <tr>\n",
       "      <th>0</th>\n",
       "      <td>2022/07/24</td>\n",
       "      <td>その他</td>\n",
       "      <td>スティックノリ(TOEIC写真貼る用)</td>\n",
       "      <td>¥120</td>\n",
       "    </tr>\n",
       "    <tr>\n",
       "      <th>1</th>\n",
       "      <td>2022/07/24</td>\n",
       "      <td>その他</td>\n",
       "      <td>水</td>\n",
       "      <td>¥100</td>\n",
       "    </tr>\n",
       "    <tr>\n",
       "      <th>2</th>\n",
       "      <td>2022/07/24</td>\n",
       "      <td>その他</td>\n",
       "      <td>TOEIC用写真(写真証明機)</td>\n",
       "      <td>¥900</td>\n",
       "    </tr>\n",
       "    <tr>\n",
       "      <th>3</th>\n",
       "      <td>2022/07/24</td>\n",
       "      <td>旅費交通費</td>\n",
       "      <td>電車（海老名→淵野辺）</td>\n",
       "      <td>¥377</td>\n",
       "    </tr>\n",
       "    <tr>\n",
       "      <th>4</th>\n",
       "      <td>2022/07/25</td>\n",
       "      <td>自己投資</td>\n",
       "      <td>コメダ珈琲</td>\n",
       "      <td>¥270</td>\n",
       "    </tr>\n",
       "  </tbody>\n",
       "</table>\n",
       "</div>"
      ],
      "text/plain": [
       "         date category                 memo amount\n",
       "0  2022/07/24      その他  スティックノリ(TOEIC写真貼る用)   ¥120\n",
       "1  2022/07/24      その他                    水   ¥100\n",
       "2  2022/07/24      その他      TOEIC用写真(写真証明機)   ¥900\n",
       "3  2022/07/24    旅費交通費          電車（海老名→淵野辺）   ¥377\n",
       "4  2022/07/25     自己投資                コメダ珈琲   ¥270"
      ]
     },
     "execution_count": 83,
     "metadata": {},
     "output_type": "execute_result"
    }
   ],
   "source": [
    "# 欠損値がないかの確認\n",
    "df = df[~df[\"date\"].isna() == True]\n",
    "df.head()"
   ]
  },
  {
   "cell_type": "markdown",
   "id": "4aaab5eb-fe21-4d74-b3ce-f5e09ab79cfa",
   "metadata": {},
   "source": [
    "### date列を日付型にデータ整形するためのコード"
   ]
  },
  {
   "cell_type": "code",
   "execution_count": 84,
   "id": "387aeec5-c691-4313-820f-7b785c13c3e1",
   "metadata": {},
   "outputs": [
    {
     "name": "stdout",
     "output_type": "stream",
     "text": [
      "<class 'pandas.core.frame.DataFrame'>\n",
      "Index: 1227 entries, 0 to 1229\n",
      "Data columns (total 4 columns):\n",
      " #   Column    Non-Null Count  Dtype         \n",
      "---  ------    --------------  -----         \n",
      " 0   date      1227 non-null   datetime64[ns]\n",
      " 1   category  1227 non-null   object        \n",
      " 2   memo      1225 non-null   object        \n",
      " 3   amount    1227 non-null   object        \n",
      "dtypes: datetime64[ns](1), object(3)\n",
      "memory usage: 47.9+ KB\n"
     ]
    },
    {
     "data": {
      "text/plain": [
       "None"
      ]
     },
     "metadata": {},
     "output_type": "display_data"
    }
   ],
   "source": [
    "# dateのフォーマットの日付統一\n",
    "# df[\"date\"] = df[\"date\"].apply(lambda x: x.replace(\"-\", \"/\"))\n",
    "# df[df[\"date\"].str.contains(\"-\")]\n",
    "\n",
    "# date列のデータタイプを日付型に変更\n",
    "df[\"date\"] = pd.to_datetime(df[\"date\"])\n",
    "display(df.info())"
   ]
  },
  {
   "cell_type": "markdown",
   "id": "df47e190-1353-4a03-88a5-2f6be651a1a9",
   "metadata": {},
   "source": [
    "### amount列をint型に変更するコード"
   ]
  },
  {
   "cell_type": "code",
   "execution_count": 85,
   "id": "e6b62a61-2f44-4370-a078-ad362bb5dedc",
   "metadata": {},
   "outputs": [
    {
     "name": "stdout",
     "output_type": "stream",
     "text": [
      "<class 'pandas.core.frame.DataFrame'>\n",
      "Index: 1227 entries, 0 to 1229\n",
      "Data columns (total 4 columns):\n",
      " #   Column    Non-Null Count  Dtype         \n",
      "---  ------    --------------  -----         \n",
      " 0   date      1227 non-null   datetime64[ns]\n",
      " 1   category  1227 non-null   object        \n",
      " 2   memo      1225 non-null   object        \n",
      " 3   amount    1227 non-null   int64         \n",
      "dtypes: datetime64[ns](1), int64(1), object(2)\n",
      "memory usage: 47.9+ KB\n"
     ]
    }
   ],
   "source": [
    "df[\"amount\"] = df[\"amount\"].apply(lambda x: x[1:].replace(\",\", \"\"))\n",
    "df[\"amount\"] = df[\"amount\"].astype(int)\n",
    "df.info()"
   ]
  },
  {
   "cell_type": "markdown",
   "id": "2afa20a4",
   "metadata": {},
   "source": [
    "### csvファイルとして保存"
   ]
  },
  {
   "cell_type": "code",
   "execution_count": 86,
   "id": "42ca5c23-0d13-4e1c-9662-0465d1f5042f",
   "metadata": {},
   "outputs": [],
   "source": [
    "# csvファイルとして保存\n",
    "df.to_csv(\"支出管理.csv\", index=False)"
   ]
  },
  {
   "cell_type": "markdown",
   "id": "a90fc8d4",
   "metadata": {},
   "source": [
    "### 練習"
   ]
  },
  {
   "cell_type": "code",
   "execution_count": 87,
   "id": "ebb3c306",
   "metadata": {},
   "outputs": [
    {
     "data": {
      "text/html": [
       "<div>\n",
       "<style scoped>\n",
       "    .dataframe tbody tr th:only-of-type {\n",
       "        vertical-align: middle;\n",
       "    }\n",
       "\n",
       "    .dataframe tbody tr th {\n",
       "        vertical-align: top;\n",
       "    }\n",
       "\n",
       "    .dataframe thead th {\n",
       "        text-align: right;\n",
       "    }\n",
       "</style>\n",
       "<table border=\"1\" class=\"dataframe\">\n",
       "  <thead>\n",
       "    <tr style=\"text-align: right;\">\n",
       "      <th></th>\n",
       "      <th>amount</th>\n",
       "    </tr>\n",
       "    <tr>\n",
       "      <th>category</th>\n",
       "      <th></th>\n",
       "    </tr>\n",
       "  </thead>\n",
       "  <tbody>\n",
       "    <tr>\n",
       "      <th>住宅</th>\n",
       "      <td>178880</td>\n",
       "    </tr>\n",
       "    <tr>\n",
       "      <th>自己投資</th>\n",
       "      <td>96343</td>\n",
       "    </tr>\n",
       "    <tr>\n",
       "      <th>飲食費</th>\n",
       "      <td>39550</td>\n",
       "    </tr>\n",
       "    <tr>\n",
       "      <th>生活</th>\n",
       "      <td>30500</td>\n",
       "    </tr>\n",
       "    <tr>\n",
       "      <th>その他</th>\n",
       "      <td>24236</td>\n",
       "    </tr>\n",
       "    <tr>\n",
       "      <th>娯楽</th>\n",
       "      <td>11580</td>\n",
       "    </tr>\n",
       "    <tr>\n",
       "      <th>旅費交通費</th>\n",
       "      <td>11548</td>\n",
       "    </tr>\n",
       "    <tr>\n",
       "      <th>水道光熱費</th>\n",
       "      <td>7677</td>\n",
       "    </tr>\n",
       "    <tr>\n",
       "      <th>通信費</th>\n",
       "      <td>5921</td>\n",
       "    </tr>\n",
       "  </tbody>\n",
       "</table>\n",
       "</div>"
      ],
      "text/plain": [
       "          amount\n",
       "category        \n",
       "住宅        178880\n",
       "自己投資       96343\n",
       "飲食費        39550\n",
       "生活         30500\n",
       "その他        24236\n",
       "娯楽         11580\n",
       "旅費交通費      11548\n",
       "水道光熱費       7677\n",
       "通信費         5921"
      ]
     },
     "execution_count": 87,
     "metadata": {},
     "output_type": "execute_result"
    }
   ],
   "source": [
    "df[df[\"date\"].between(\"2023-08-01\", \"2023-09-01\")].groupby(\"category\")[[\"amount\"]].sum().sort_values(by=\"amount\", ascending=False)"
   ]
  },
  {
   "cell_type": "code",
   "execution_count": 88,
   "id": "7d4e63d3",
   "metadata": {},
   "outputs": [
    {
     "data": {
      "text/html": [
       "<div>\n",
       "<style scoped>\n",
       "    .dataframe tbody tr th:only-of-type {\n",
       "        vertical-align: middle;\n",
       "    }\n",
       "\n",
       "    .dataframe tbody tr th {\n",
       "        vertical-align: top;\n",
       "    }\n",
       "\n",
       "    .dataframe thead th {\n",
       "        text-align: right;\n",
       "    }\n",
       "</style>\n",
       "<table border=\"1\" class=\"dataframe\">\n",
       "  <thead>\n",
       "    <tr style=\"text-align: right;\">\n",
       "      <th></th>\n",
       "      <th>date</th>\n",
       "      <th>category</th>\n",
       "      <th>memo</th>\n",
       "      <th>amount</th>\n",
       "    </tr>\n",
       "  </thead>\n",
       "  <tbody>\n",
       "    <tr>\n",
       "      <th>976</th>\n",
       "      <td>2023-08-01</td>\n",
       "      <td>住宅</td>\n",
       "      <td>家賃</td>\n",
       "      <td>98430</td>\n",
       "    </tr>\n",
       "    <tr>\n",
       "      <th>977</th>\n",
       "      <td>2023-08-01</td>\n",
       "      <td>生活</td>\n",
       "      <td>UNIQLO、日傘、PC用眼鏡</td>\n",
       "      <td>20930</td>\n",
       "    </tr>\n",
       "    <tr>\n",
       "      <th>978</th>\n",
       "      <td>2023-08-01</td>\n",
       "      <td>自己投資</td>\n",
       "      <td>コメダ珈琲</td>\n",
       "      <td>100</td>\n",
       "    </tr>\n",
       "    <tr>\n",
       "      <th>979</th>\n",
       "      <td>2023-08-01</td>\n",
       "      <td>飲食費</td>\n",
       "      <td>積田食堂</td>\n",
       "      <td>500</td>\n",
       "    </tr>\n",
       "    <tr>\n",
       "      <th>980</th>\n",
       "      <td>2023-08-01</td>\n",
       "      <td>その他</td>\n",
       "      <td>Amazon？？</td>\n",
       "      <td>1553</td>\n",
       "    </tr>\n",
       "    <tr>\n",
       "      <th>...</th>\n",
       "      <td>...</td>\n",
       "      <td>...</td>\n",
       "      <td>...</td>\n",
       "      <td>...</td>\n",
       "    </tr>\n",
       "    <tr>\n",
       "      <th>1107</th>\n",
       "      <td>2023-09-01</td>\n",
       "      <td>飲食費</td>\n",
       "      <td>スタバ</td>\n",
       "      <td>689</td>\n",
       "    </tr>\n",
       "    <tr>\n",
       "      <th>1108</th>\n",
       "      <td>2023-09-01</td>\n",
       "      <td>飲食費</td>\n",
       "      <td>サイゼリヤ</td>\n",
       "      <td>1100</td>\n",
       "    </tr>\n",
       "    <tr>\n",
       "      <th>1109</th>\n",
       "      <td>2023-09-01</td>\n",
       "      <td>自己投資</td>\n",
       "      <td>コメダ珈琲</td>\n",
       "      <td>100</td>\n",
       "    </tr>\n",
       "    <tr>\n",
       "      <th>1110</th>\n",
       "      <td>2023-09-01</td>\n",
       "      <td>住宅</td>\n",
       "      <td>家賃</td>\n",
       "      <td>80000</td>\n",
       "    </tr>\n",
       "    <tr>\n",
       "      <th>1111</th>\n",
       "      <td>2023-09-01</td>\n",
       "      <td>自己投資</td>\n",
       "      <td>note</td>\n",
       "      <td>864</td>\n",
       "    </tr>\n",
       "  </tbody>\n",
       "</table>\n",
       "<p>133 rows × 4 columns</p>\n",
       "</div>"
      ],
      "text/plain": [
       "           date category             memo  amount\n",
       "976  2023-08-01       住宅               家賃   98430\n",
       "977  2023-08-01       生活  UNIQLO、日傘、PC用眼鏡   20930\n",
       "978  2023-08-01     自己投資            コメダ珈琲     100\n",
       "979  2023-08-01      飲食費             積田食堂     500\n",
       "980  2023-08-01      その他         Amazon？？    1553\n",
       "...         ...      ...              ...     ...\n",
       "1107 2023-09-01      飲食費              スタバ     689\n",
       "1108 2023-09-01      飲食費            サイゼリヤ    1100\n",
       "1109 2023-09-01     自己投資            コメダ珈琲     100\n",
       "1110 2023-09-01       住宅               家賃   80000\n",
       "1111 2023-09-01     自己投資             note     864\n",
       "\n",
       "[133 rows x 4 columns]"
      ]
     },
     "execution_count": 88,
     "metadata": {},
     "output_type": "execute_result"
    }
   ],
   "source": [
    "df[df[\"date\"].between(\"2023-08-01\", \"2023-09-01\")]"
   ]
  },
  {
   "cell_type": "code",
   "execution_count": null,
   "id": "1ba4464f",
   "metadata": {},
   "outputs": [],
   "source": []
  },
  {
   "cell_type": "code",
   "execution_count": null,
   "id": "51950384",
   "metadata": {},
   "outputs": [],
   "source": []
  },
  {
   "cell_type": "code",
   "execution_count": null,
   "id": "5ce8a4d6",
   "metadata": {},
   "outputs": [],
   "source": []
  }
 ],
 "metadata": {
  "kernelspec": {
   "display_name": "Python 3 (ipykernel)",
   "language": "python",
   "name": "python3"
  },
  "language_info": {
   "codemirror_mode": {
    "name": "ipython",
    "version": 3
   },
   "file_extension": ".py",
   "mimetype": "text/x-python",
   "name": "python",
   "nbconvert_exporter": "python",
   "pygments_lexer": "ipython3",
   "version": "3.11.4"
  }
 },
 "nbformat": 4,
 "nbformat_minor": 5
}
