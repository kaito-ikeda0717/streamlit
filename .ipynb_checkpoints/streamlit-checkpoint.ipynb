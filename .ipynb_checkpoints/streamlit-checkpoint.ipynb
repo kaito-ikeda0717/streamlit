{
 "cells": [
  {
   "cell_type": "code",
   "execution_count": 44,
   "id": "cb243df8-c010-4e31-9fb8-239d4e8ab861",
   "metadata": {},
   "outputs": [],
   "source": [
    "import streamlit as st\n",
    "import numpy as np\n",
    "import pandas as pd\n",
    "import matplotlib.pyplot as plt\n",
    "%matplotlib inline"
   ]
  },
  {
   "cell_type": "code",
   "execution_count": 2,
   "id": "df0d5ff7-4fe2-44a8-b30b-676d0056c052",
   "metadata": {},
   "outputs": [
    {
     "data": {
      "text/html": [
       "<div>\n",
       "<style scoped>\n",
       "    .dataframe tbody tr th:only-of-type {\n",
       "        vertical-align: middle;\n",
       "    }\n",
       "\n",
       "    .dataframe tbody tr th {\n",
       "        vertical-align: top;\n",
       "    }\n",
       "\n",
       "    .dataframe thead th {\n",
       "        text-align: right;\n",
       "    }\n",
       "</style>\n",
       "<table border=\"1\" class=\"dataframe\">\n",
       "  <thead>\n",
       "    <tr style=\"text-align: right;\">\n",
       "      <th></th>\n",
       "      <th>date</th>\n",
       "      <th>category</th>\n",
       "      <th>amount</th>\n",
       "      <th>memo</th>\n",
       "    </tr>\n",
       "  </thead>\n",
       "  <tbody>\n",
       "    <tr>\n",
       "      <th>0</th>\n",
       "      <td>2022/07/24</td>\n",
       "      <td>その他</td>\n",
       "      <td>¥120</td>\n",
       "      <td>スティックノリ(TOEIC写真貼る用)</td>\n",
       "    </tr>\n",
       "    <tr>\n",
       "      <th>1</th>\n",
       "      <td>2022/07/24</td>\n",
       "      <td>その他</td>\n",
       "      <td>¥100</td>\n",
       "      <td>水</td>\n",
       "    </tr>\n",
       "    <tr>\n",
       "      <th>2</th>\n",
       "      <td>2022/07/24</td>\n",
       "      <td>その他</td>\n",
       "      <td>¥900</td>\n",
       "      <td>TOEIC用写真(写真証明機)</td>\n",
       "    </tr>\n",
       "    <tr>\n",
       "      <th>3</th>\n",
       "      <td>2022/07/24</td>\n",
       "      <td>旅費交通費</td>\n",
       "      <td>¥377</td>\n",
       "      <td>電車（海老名→淵野辺）</td>\n",
       "    </tr>\n",
       "    <tr>\n",
       "      <th>4</th>\n",
       "      <td>2022/07/25</td>\n",
       "      <td>自己投資</td>\n",
       "      <td>¥270</td>\n",
       "      <td>コメダ珈琲</td>\n",
       "    </tr>\n",
       "  </tbody>\n",
       "</table>\n",
       "</div>"
      ],
      "text/plain": [
       "         date category amount                 memo\n",
       "0  2022/07/24      その他   ¥120  スティックノリ(TOEIC写真貼る用)\n",
       "1  2022/07/24      その他   ¥100                    水\n",
       "2  2022/07/24      その他   ¥900      TOEIC用写真(写真証明機)\n",
       "3  2022/07/24    旅費交通費   ¥377          電車（海老名→淵野辺）\n",
       "4  2022/07/25     自己投資   ¥270                コメダ珈琲"
      ]
     },
     "execution_count": 2,
     "metadata": {},
     "output_type": "execute_result"
    }
   ],
   "source": [
    "df = pd.read_csv(\"収入支出管理表.csv\")\n",
    "df.head()"
   ]
  },
  {
   "cell_type": "code",
   "execution_count": 3,
   "id": "d101f416-fdb4-43a5-b653-569cb94ba3c2",
   "metadata": {},
   "outputs": [
    {
     "name": "stdout",
     "output_type": "stream",
     "text": [
      "<class 'pandas.core.frame.DataFrame'>\n",
      "RangeIndex: 1106 entries, 0 to 1105\n",
      "Data columns (total 4 columns):\n",
      " #   Column    Non-Null Count  Dtype \n",
      "---  ------    --------------  ----- \n",
      " 0   date      1103 non-null   object\n",
      " 1   category  1106 non-null   object\n",
      " 2   amount    1106 non-null   object\n",
      " 3   memo      1104 non-null   object\n",
      "dtypes: object(4)\n",
      "memory usage: 34.7+ KB\n"
     ]
    }
   ],
   "source": [
    "df.info()"
   ]
  },
  {
   "cell_type": "markdown",
   "id": "4aaab5eb-fe21-4d74-b3ce-f5e09ab79cfa",
   "metadata": {},
   "source": [
    "### date列を日付型にデータ整形するためのコード"
   ]
  },
  {
   "cell_type": "code",
   "execution_count": 4,
   "id": "387aeec5-c691-4313-820f-7b785c13c3e1",
   "metadata": {},
   "outputs": [
    {
     "name": "stdout",
     "output_type": "stream",
     "text": [
      "<class 'pandas.core.frame.DataFrame'>\n",
      "Index: 1103 entries, 0 to 1102\n",
      "Data columns (total 4 columns):\n",
      " #   Column    Non-Null Count  Dtype         \n",
      "---  ------    --------------  -----         \n",
      " 0   date      1103 non-null   datetime64[ns]\n",
      " 1   category  1103 non-null   object        \n",
      " 2   amount    1103 non-null   object        \n",
      " 3   memo      1101 non-null   object        \n",
      "dtypes: datetime64[ns](1), object(3)\n",
      "memory usage: 43.1+ KB\n"
     ]
    },
    {
     "data": {
      "text/plain": [
       "None"
      ]
     },
     "metadata": {},
     "output_type": "display_data"
    }
   ],
   "source": [
    "# Naデータの削除\n",
    "df = df[~df[\"date\"].isna() == True]\n",
    "# dateのフォーマットの日付統一\n",
    "df[\"date\"] = df[\"date\"].apply(lambda x: x.replace(\"-\", \"/\"))\n",
    "df[df[\"date\"].str.contains(\"-\")]\n",
    "\n",
    "#date列のデータタイプを日付型に変更\n",
    "df[\"date\"] = pd.to_datetime(df[\"date\"])\n",
    "display(df.info())"
   ]
  },
  {
   "cell_type": "markdown",
   "id": "df47e190-1353-4a03-88a5-2f6be651a1a9",
   "metadata": {},
   "source": [
    "### amount列をint型に変更するコード"
   ]
  },
  {
   "cell_type": "code",
   "execution_count": 5,
   "id": "e6b62a61-2f44-4370-a078-ad362bb5dedc",
   "metadata": {},
   "outputs": [],
   "source": [
    "df[\"amount\"] = df[\"amount\"].apply(lambda x: x[1:].replace(\",\", \"\"))"
   ]
  },
  {
   "cell_type": "code",
   "execution_count": 6,
   "id": "303b10b3-b2a5-4ed6-a86a-a131c7e640dc",
   "metadata": {},
   "outputs": [
    {
     "name": "stdout",
     "output_type": "stream",
     "text": [
      "<class 'pandas.core.frame.DataFrame'>\n",
      "Index: 1103 entries, 0 to 1102\n",
      "Data columns (total 4 columns):\n",
      " #   Column    Non-Null Count  Dtype         \n",
      "---  ------    --------------  -----         \n",
      " 0   date      1103 non-null   datetime64[ns]\n",
      " 1   category  1103 non-null   object        \n",
      " 2   amount    1103 non-null   int64         \n",
      " 3   memo      1101 non-null   object        \n",
      "dtypes: datetime64[ns](1), int64(1), object(2)\n",
      "memory usage: 43.1+ KB\n"
     ]
    }
   ],
   "source": [
    "df[\"amount\"] = df[\"amount\"].astype(int)\n",
    "df.info()"
   ]
  },
  {
   "cell_type": "code",
   "execution_count": 8,
   "id": "e53167ed-9ea4-48e0-830c-df1ae71ee784",
   "metadata": {},
   "outputs": [
    {
     "data": {
      "text/html": [
       "<div>\n",
       "<style scoped>\n",
       "    .dataframe tbody tr th:only-of-type {\n",
       "        vertical-align: middle;\n",
       "    }\n",
       "\n",
       "    .dataframe tbody tr th {\n",
       "        vertical-align: top;\n",
       "    }\n",
       "\n",
       "    .dataframe thead th {\n",
       "        text-align: right;\n",
       "    }\n",
       "</style>\n",
       "<table border=\"1\" class=\"dataframe\">\n",
       "  <thead>\n",
       "    <tr style=\"text-align: right;\">\n",
       "      <th></th>\n",
       "      <th>date</th>\n",
       "      <th>category</th>\n",
       "      <th>amount</th>\n",
       "      <th>memo</th>\n",
       "    </tr>\n",
       "  </thead>\n",
       "  <tbody>\n",
       "    <tr>\n",
       "      <th>976</th>\n",
       "      <td>2023-08-01</td>\n",
       "      <td>住宅</td>\n",
       "      <td>98430</td>\n",
       "      <td>家賃</td>\n",
       "    </tr>\n",
       "    <tr>\n",
       "      <th>977</th>\n",
       "      <td>2023-08-01</td>\n",
       "      <td>生活</td>\n",
       "      <td>20930</td>\n",
       "      <td>UNIQLO、日傘、PC用眼鏡</td>\n",
       "    </tr>\n",
       "    <tr>\n",
       "      <th>978</th>\n",
       "      <td>2023-08-01</td>\n",
       "      <td>自己投資</td>\n",
       "      <td>100</td>\n",
       "      <td>コメダ珈琲</td>\n",
       "    </tr>\n",
       "    <tr>\n",
       "      <th>979</th>\n",
       "      <td>2023-08-01</td>\n",
       "      <td>飲食費</td>\n",
       "      <td>500</td>\n",
       "      <td>積田食堂</td>\n",
       "    </tr>\n",
       "    <tr>\n",
       "      <th>980</th>\n",
       "      <td>2023-08-01</td>\n",
       "      <td>その他</td>\n",
       "      <td>1553</td>\n",
       "      <td>Amazon？？</td>\n",
       "    </tr>\n",
       "    <tr>\n",
       "      <th>...</th>\n",
       "      <td>...</td>\n",
       "      <td>...</td>\n",
       "      <td>...</td>\n",
       "      <td>...</td>\n",
       "    </tr>\n",
       "    <tr>\n",
       "      <th>1098</th>\n",
       "      <td>2023-08-30</td>\n",
       "      <td>飲食費</td>\n",
       "      <td>1480</td>\n",
       "      <td>サブウェイ</td>\n",
       "    </tr>\n",
       "    <tr>\n",
       "      <th>1099</th>\n",
       "      <td>2023-08-31</td>\n",
       "      <td>通信費</td>\n",
       "      <td>5921</td>\n",
       "      <td>ahamo</td>\n",
       "    </tr>\n",
       "    <tr>\n",
       "      <th>1100</th>\n",
       "      <td>2023-08-31</td>\n",
       "      <td>自己投資</td>\n",
       "      <td>4300</td>\n",
       "      <td>コメダ珈琲チケット</td>\n",
       "    </tr>\n",
       "    <tr>\n",
       "      <th>1101</th>\n",
       "      <td>2023-08-31</td>\n",
       "      <td>飲食費</td>\n",
       "      <td>850</td>\n",
       "      <td>すき家</td>\n",
       "    </tr>\n",
       "    <tr>\n",
       "      <th>1102</th>\n",
       "      <td>2023-08-31</td>\n",
       "      <td>旅費交通費</td>\n",
       "      <td>242</td>\n",
       "      <td>センター北→仲町台</td>\n",
       "    </tr>\n",
       "  </tbody>\n",
       "</table>\n",
       "<p>127 rows × 4 columns</p>\n",
       "</div>"
      ],
      "text/plain": [
       "           date category  amount             memo\n",
       "976  2023-08-01       住宅   98430               家賃\n",
       "977  2023-08-01       生活   20930  UNIQLO、日傘、PC用眼鏡\n",
       "978  2023-08-01     自己投資     100            コメダ珈琲\n",
       "979  2023-08-01      飲食費     500             積田食堂\n",
       "980  2023-08-01      その他    1553         Amazon？？\n",
       "...         ...      ...     ...              ...\n",
       "1098 2023-08-30      飲食費    1480            サブウェイ\n",
       "1099 2023-08-31      通信費    5921            ahamo\n",
       "1100 2023-08-31     自己投資    4300        コメダ珈琲チケット\n",
       "1101 2023-08-31      飲食費     850              すき家\n",
       "1102 2023-08-31    旅費交通費     242        センター北→仲町台\n",
       "\n",
       "[127 rows x 4 columns]"
      ]
     },
     "execution_count": 8,
     "metadata": {},
     "output_type": "execute_result"
    }
   ],
   "source": [
    "df[df[\"date\"].between(\"2023-08-01\", \"2023-08-31\")]"
   ]
  },
  {
   "cell_type": "code",
   "execution_count": 10,
   "id": "42ca5c23-0d13-4e1c-9662-0465d1f5042f",
   "metadata": {},
   "outputs": [],
   "source": [
    "df.to_csv(\"支出管理.csv\", index=False)"
   ]
  },
  {
   "cell_type": "code",
   "execution_count": 150,
   "id": "4711015e-23ea-42e1-bbab-70dc27a9cc3f",
   "metadata": {},
   "outputs": [
    {
     "data": {
      "text/plain": [
       "['飲食費', '自己投資', 'その他', '旅費交通費', '娯楽', '水道光熱費', '住宅', '生活', '借金', '通信費']"
      ]
     },
     "execution_count": 150,
     "metadata": {},
     "output_type": "execute_result"
    }
   ],
   "source": [
    "a = df[\"category\"].value_counts().index\n",
    "list(a)"
   ]
  },
  {
   "cell_type": "code",
   "execution_count": 9,
   "id": "28c4b2af-0716-4559-9f80-75f2ca81194f",
   "metadata": {},
   "outputs": [
    {
     "name": "stdout",
     "output_type": "stream",
     "text": [
      "<class 'pandas.core.frame.DataFrame'>\n",
      "Index: 1103 entries, 0 to 1102\n",
      "Data columns (total 4 columns):\n",
      " #   Column    Non-Null Count  Dtype         \n",
      "---  ------    --------------  -----         \n",
      " 0   date      1103 non-null   datetime64[ns]\n",
      " 1   category  1103 non-null   object        \n",
      " 2   amount    1103 non-null   int64         \n",
      " 3   memo      1101 non-null   object        \n",
      "dtypes: datetime64[ns](1), int64(1), object(2)\n",
      "memory usage: 43.1+ KB\n"
     ]
    }
   ],
   "source": [
    "df.info()"
   ]
  },
  {
   "cell_type": "code",
   "execution_count": 37,
   "id": "f89d5d1f-fe16-4c67-9dfc-c27adcf4c6e1",
   "metadata": {},
   "outputs": [
    {
     "data": {
      "text/html": [
       "<div>\n",
       "<style scoped>\n",
       "    .dataframe tbody tr th:only-of-type {\n",
       "        vertical-align: middle;\n",
       "    }\n",
       "\n",
       "    .dataframe tbody tr th {\n",
       "        vertical-align: top;\n",
       "    }\n",
       "\n",
       "    .dataframe thead th {\n",
       "        text-align: right;\n",
       "    }\n",
       "</style>\n",
       "<table border=\"1\" class=\"dataframe\">\n",
       "  <thead>\n",
       "    <tr style=\"text-align: right;\">\n",
       "      <th></th>\n",
       "      <th>category</th>\n",
       "      <th>amount</th>\n",
       "    </tr>\n",
       "  </thead>\n",
       "  <tbody>\n",
       "    <tr>\n",
       "      <th>0</th>\n",
       "      <td>その他</td>\n",
       "      <td>4686687</td>\n",
       "    </tr>\n",
       "    <tr>\n",
       "      <th>1</th>\n",
       "      <td>住宅</td>\n",
       "      <td>2251431</td>\n",
       "    </tr>\n",
       "    <tr>\n",
       "      <th>2</th>\n",
       "      <td>借金</td>\n",
       "      <td>848087</td>\n",
       "    </tr>\n",
       "    <tr>\n",
       "      <th>3</th>\n",
       "      <td>娯楽</td>\n",
       "      <td>609210</td>\n",
       "    </tr>\n",
       "    <tr>\n",
       "      <th>4</th>\n",
       "      <td>旅費交通費</td>\n",
       "      <td>79366</td>\n",
       "    </tr>\n",
       "    <tr>\n",
       "      <th>5</th>\n",
       "      <td>水道光熱費</td>\n",
       "      <td>158507</td>\n",
       "    </tr>\n",
       "    <tr>\n",
       "      <th>6</th>\n",
       "      <td>生活</td>\n",
       "      <td>69463</td>\n",
       "    </tr>\n",
       "    <tr>\n",
       "      <th>7</th>\n",
       "      <td>自己投資</td>\n",
       "      <td>2499327</td>\n",
       "    </tr>\n",
       "    <tr>\n",
       "      <th>8</th>\n",
       "      <td>通信費</td>\n",
       "      <td>157468</td>\n",
       "    </tr>\n",
       "    <tr>\n",
       "      <th>9</th>\n",
       "      <td>飲食費</td>\n",
       "      <td>699688</td>\n",
       "    </tr>\n",
       "  </tbody>\n",
       "</table>\n",
       "</div>"
      ],
      "text/plain": [
       "  category   amount\n",
       "0      その他  4686687\n",
       "1       住宅  2251431\n",
       "2       借金   848087\n",
       "3       娯楽   609210\n",
       "4    旅費交通費    79366\n",
       "5    水道光熱費   158507\n",
       "6       生活    69463\n",
       "7     自己投資  2499327\n",
       "8      通信費   157468\n",
       "9      飲食費   699688"
      ]
     },
     "execution_count": 37,
     "metadata": {},
     "output_type": "execute_result"
    }
   ],
   "source": [
    "sum_df = df.groupby(\"category\")[[\"amount\"]].sum().reset_index()\n",
    "sum_df"
   ]
  },
  {
   "cell_type": "code",
   "execution_count": 19,
   "id": "258d0fb8-b6aa-4417-ac24-837249754793",
   "metadata": {},
   "outputs": [
    {
     "data": {
      "text/html": [
       "<div>\n",
       "<style scoped>\n",
       "    .dataframe tbody tr th:only-of-type {\n",
       "        vertical-align: middle;\n",
       "    }\n",
       "\n",
       "    .dataframe tbody tr th {\n",
       "        vertical-align: top;\n",
       "    }\n",
       "\n",
       "    .dataframe thead th {\n",
       "        text-align: right;\n",
       "    }\n",
       "</style>\n",
       "<table border=\"1\" class=\"dataframe\">\n",
       "  <thead>\n",
       "    <tr style=\"text-align: right;\">\n",
       "      <th></th>\n",
       "      <th>category</th>\n",
       "      <th>amount</th>\n",
       "    </tr>\n",
       "  </thead>\n",
       "  <tbody>\n",
       "    <tr>\n",
       "      <th>0</th>\n",
       "      <td>その他</td>\n",
       "      <td>4686687</td>\n",
       "    </tr>\n",
       "    <tr>\n",
       "      <th>1</th>\n",
       "      <td>住宅</td>\n",
       "      <td>2251431</td>\n",
       "    </tr>\n",
       "    <tr>\n",
       "      <th>2</th>\n",
       "      <td>借金</td>\n",
       "      <td>848087</td>\n",
       "    </tr>\n",
       "    <tr>\n",
       "      <th>3</th>\n",
       "      <td>娯楽</td>\n",
       "      <td>609210</td>\n",
       "    </tr>\n",
       "    <tr>\n",
       "      <th>4</th>\n",
       "      <td>旅費交通費</td>\n",
       "      <td>79366</td>\n",
       "    </tr>\n",
       "    <tr>\n",
       "      <th>5</th>\n",
       "      <td>水道光熱費</td>\n",
       "      <td>158507</td>\n",
       "    </tr>\n",
       "    <tr>\n",
       "      <th>6</th>\n",
       "      <td>生活</td>\n",
       "      <td>69463</td>\n",
       "    </tr>\n",
       "    <tr>\n",
       "      <th>7</th>\n",
       "      <td>自己投資</td>\n",
       "      <td>2499327</td>\n",
       "    </tr>\n",
       "    <tr>\n",
       "      <th>8</th>\n",
       "      <td>通信費</td>\n",
       "      <td>157468</td>\n",
       "    </tr>\n",
       "    <tr>\n",
       "      <th>9</th>\n",
       "      <td>飲食費</td>\n",
       "      <td>699688</td>\n",
       "    </tr>\n",
       "  </tbody>\n",
       "</table>\n",
       "</div>"
      ],
      "text/plain": [
       "  category   amount\n",
       "0      その他  4686687\n",
       "1       住宅  2251431\n",
       "2       借金   848087\n",
       "3       娯楽   609210\n",
       "4    旅費交通費    79366\n",
       "5    水道光熱費   158507\n",
       "6       生活    69463\n",
       "7     自己投資  2499327\n",
       "8      通信費   157468\n",
       "9      飲食費   699688"
      ]
     },
     "execution_count": 19,
     "metadata": {},
     "output_type": "execute_result"
    }
   ],
   "source": [
    "sum_df = df.groupby(\"category\")[\"amount\"].sum().reset_index()\n",
    "sum_df"
   ]
  },
  {
   "cell_type": "code",
   "execution_count": 46,
   "id": "5928c0e9-b59f-44a7-b9fd-7cf5b88da67e",
   "metadata": {},
   "outputs": [
    {
     "data": {
      "text/plain": [
       "(-1.0999957480004043,\n",
       " 1.0999935252175326,\n",
       " -1.0999997953629295,\n",
       " 1.0999999902553776)"
      ]
     },
     "execution_count": 46,
     "metadata": {},
     "output_type": "execute_result"
    }
   ],
   "source": [
    "labels = df[\"category\"].value_counts().index\n",
    "sizes = df.groupby(\"category\")[\"amount\"].sum().sort_values()\n",
    "\n",
    "fig, ax = plt.subplots()\n",
    "ax.pie(sizes, labels=labels, autopct='%1.1f%%', startangle=90)\n",
    "ax.axis('equal')  # Equal aspect ratio ensures that pie is drawn as a circle."
   ]
  },
  {
   "cell_type": "code",
   "execution_count": null,
   "id": "caa94b5f-a45a-4671-bc34-8d01dadee6e8",
   "metadata": {},
   "outputs": [],
   "source": []
  },
  {
   "cell_type": "code",
   "execution_count": null,
   "id": "f33117c5-0519-48f6-8d2a-c4350178a4de",
   "metadata": {},
   "outputs": [],
   "source": []
  },
  {
   "cell_type": "code",
   "execution_count": null,
   "id": "5495af28-0d7e-4c86-b2f7-0feefe4fb38d",
   "metadata": {},
   "outputs": [],
   "source": []
  },
  {
   "cell_type": "code",
   "execution_count": null,
   "id": "831ba8b7-0287-417c-bc41-d3d02a4b79da",
   "metadata": {},
   "outputs": [],
   "source": []
  }
 ],
 "metadata": {
  "kernelspec": {
   "display_name": "Python 3 (ipykernel)",
   "language": "python",
   "name": "python3"
  },
  "language_info": {
   "codemirror_mode": {
    "name": "ipython",
    "version": 3
   },
   "file_extension": ".py",
   "mimetype": "text/x-python",
   "name": "python",
   "nbconvert_exporter": "python",
   "pygments_lexer": "ipython3",
   "version": "3.11.4"
  }
 },
 "nbformat": 4,
 "nbformat_minor": 5
}
